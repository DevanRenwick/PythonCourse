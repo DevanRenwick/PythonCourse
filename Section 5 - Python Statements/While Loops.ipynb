{
 "cells": [
  {
   "cell_type": "markdown",
   "id": "db019793",
   "metadata": {},
   "source": [
    "# While Loops"
   ]
  },
  {
   "cell_type": "markdown",
   "id": "feb4ad49",
   "metadata": {},
   "source": [
    "While loops will continue to executre a block of code while some condition remains true.\n",
    "\n",
    "For example: While my pool is not full, keep filling it with water."
   ]
  },
  {
   "cell_type": "code",
   "execution_count": null,
   "id": "69e52f4e",
   "metadata": {},
   "outputs": [],
   "source": [
    "#while some_conditional_boolean\n",
    "    #do something\n",
    "#else:\n",
    "    #do something else"
   ]
  },
  {
   "cell_type": "code",
   "execution_count": 1,
   "id": "6b6c1b3b",
   "metadata": {},
   "outputs": [
    {
     "name": "stdout",
     "output_type": "stream",
     "text": [
      "The current value of x is 0\n",
      "The current value of x is 1\n",
      "The current value of x is 2\n",
      "The current value of x is 3\n",
      "The current value of x is 4\n"
     ]
    }
   ],
   "source": [
    "x = 0\n",
    "while x < 5:\n",
    "    print(f'The current value of x is {x}')\n",
    "    x = x + 1"
   ]
  },
  {
   "cell_type": "code",
   "execution_count": 2,
   "id": "3e48b06f",
   "metadata": {},
   "outputs": [],
   "source": [
    "#Had an issue above where the code was not running. Not sure if it's because I prematurally created the\n",
    "#while loop and ran it. But I just reset the kernal and it printed the code."
   ]
  },
  {
   "cell_type": "code",
   "execution_count": null,
   "id": "bc1436ba",
   "metadata": {},
   "outputs": [],
   "source": []
  }
 ],
 "metadata": {
  "kernelspec": {
   "display_name": "Python 3 (ipykernel)",
   "language": "python",
   "name": "python3"
  },
  "language_info": {
   "codemirror_mode": {
    "name": "ipython",
    "version": 3
   },
   "file_extension": ".py",
   "mimetype": "text/x-python",
   "name": "python",
   "nbconvert_exporter": "python",
   "pygments_lexer": "ipython3",
   "version": "3.11.4"
  }
 },
 "nbformat": 4,
 "nbformat_minor": 5
}
