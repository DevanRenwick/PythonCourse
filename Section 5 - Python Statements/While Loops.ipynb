{
 "cells": [
  {
   "cell_type": "markdown",
   "id": "db019793",
   "metadata": {},
   "source": [
    "# While Loops"
   ]
  },
  {
   "cell_type": "markdown",
   "id": "feb4ad49",
   "metadata": {},
   "source": [
    "While loops will continue to executre a block of code while some condition remains true.\n",
    "\n",
    "For example: While my pool is not full, keep filling it with water."
   ]
  },
  {
   "cell_type": "code",
   "execution_count": null,
   "id": "69e52f4e",
   "metadata": {},
   "outputs": [],
   "source": [
    "#while some_conditional_boolean\n",
    "    #do something\n",
    "#else:\n",
    "    #do something else"
   ]
  },
  {
   "cell_type": "code",
   "execution_count": 1,
   "id": "6b6c1b3b",
   "metadata": {},
   "outputs": [
    {
     "name": "stdout",
     "output_type": "stream",
     "text": [
      "The current value of x is 0\n",
      "The current value of x is 1\n",
      "The current value of x is 2\n",
      "The current value of x is 3\n",
      "The current value of x is 4\n"
     ]
    }
   ],
   "source": [
    "x = 0\n",
    "while x < 5:\n",
    "    print(f'The current value of x is {x}')\n",
    "    x = x + 1"
   ]
  },
  {
   "cell_type": "code",
   "execution_count": 2,
   "id": "3e48b06f",
   "metadata": {},
   "outputs": [],
   "source": [
    "#Had an issue above where the code was not running. Not sure if it's because I prematurally created the\n",
    "#while loop and ran it. But I just reset the kernal and it printed the code."
   ]
  },
  {
   "cell_type": "code",
   "execution_count": 1,
   "id": "bc1436ba",
   "metadata": {},
   "outputs": [],
   "source": [
    "#x = x + 1 \n",
    "#is the same as\n",
    "#x += 1"
   ]
  },
  {
   "cell_type": "code",
   "execution_count": 2,
   "id": "5a5ccb22",
   "metadata": {},
   "outputs": [
    {
     "name": "stdout",
     "output_type": "stream",
     "text": [
      "The current value of x is 0\n",
      "The current value of x is 1\n",
      "The current value of x is 2\n",
      "The current value of x is 3\n",
      "The current value of x is 4\n",
      "X IS NOT LESS THAN 5\n"
     ]
    }
   ],
   "source": [
    "x = 0\n",
    "while x < 5:\n",
    "    print(f'The current value of x is {x}')\n",
    "    x = x + 1\n",
    "else:\n",
    "    print(\"X IS NOT LESS THAN 5\")"
   ]
  },
  {
   "cell_type": "markdown",
   "id": "9f8da41d",
   "metadata": {},
   "source": [
    "## Three Key Words that are really useful with loops:\n",
    "#### **break**: Breaks out of current closest enclosing loop.\n",
    "#### **continue**: Goes to the top of the closest enclosing loop.\n",
    "#### **pass**: Does nothing at all."
   ]
  },
  {
   "cell_type": "code",
   "execution_count": 4,
   "id": "629849af",
   "metadata": {},
   "outputs": [],
   "source": [
    "x = [1,2,3]\n",
    "\n",
    "for item in x:\n",
    "    # comment\n",
    "    pass"
   ]
  },
  {
   "cell_type": "markdown",
   "id": "d9956f60",
   "metadata": {},
   "source": [
    "Pass is a good thing to use as a place holder when you are testing things out."
   ]
  },
  {
   "cell_type": "code",
   "execution_count": 6,
   "id": "3065a596",
   "metadata": {},
   "outputs": [
    {
     "name": "stdout",
     "output_type": "stream",
     "text": [
      "S\n",
      "m\n",
      "m\n",
      "y\n"
     ]
    }
   ],
   "source": [
    "mystring = \"Sammy\"\n",
    "\n",
    "for letter in mystring:\n",
    "    if letter == 'a':\n",
    "        continue\n",
    "    print(letter)"
   ]
  },
  {
   "cell_type": "code",
   "execution_count": 7,
   "id": "a7765b79",
   "metadata": {},
   "outputs": [
    {
     "name": "stdout",
     "output_type": "stream",
     "text": [
      "S\n"
     ]
    }
   ],
   "source": [
    "mystring = \"Sammy\"\n",
    "\n",
    "for letter in mystring:\n",
    "    if letter == 'a':\n",
    "        break\n",
    "    print(letter)"
   ]
  },
  {
   "cell_type": "code",
   "execution_count": 9,
   "id": "e6030609",
   "metadata": {},
   "outputs": [
    {
     "name": "stdout",
     "output_type": "stream",
     "text": [
      "0\n",
      "1\n"
     ]
    }
   ],
   "source": [
    "x = 0\n",
    "\n",
    "while x < 5:\n",
    "    if x == 2:\n",
    "        break\n",
    "    print(x)\n",
    "    x+=1"
   ]
  },
  {
   "cell_type": "code",
   "execution_count": null,
   "id": "64573d8a",
   "metadata": {},
   "outputs": [],
   "source": []
  }
 ],
 "metadata": {
  "kernelspec": {
   "display_name": "Python 3 (ipykernel)",
   "language": "python",
   "name": "python3"
  },
  "language_info": {
   "codemirror_mode": {
    "name": "ipython",
    "version": 3
   },
   "file_extension": ".py",
   "mimetype": "text/x-python",
   "name": "python",
   "nbconvert_exporter": "python",
   "pygments_lexer": "ipython3",
   "version": "3.11.4"
  }
 },
 "nbformat": 4,
 "nbformat_minor": 5
}
