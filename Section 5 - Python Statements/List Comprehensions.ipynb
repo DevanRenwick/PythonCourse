{
 "cells": [
  {
   "cell_type": "markdown",
   "id": "eccd832e",
   "metadata": {},
   "source": [
    "List comprehensions are a unique way of quickly creating a list with Python.\n",
    "\n",
    "If you find yourself using a for loop along with .append() to create a list, List comprehensions are a good alternative."
   ]
  },
  {
   "cell_type": "code",
   "execution_count": 1,
   "id": "46356819",
   "metadata": {},
   "outputs": [],
   "source": [
    "mystring = 'hello'"
   ]
  },
  {
   "cell_type": "code",
   "execution_count": 2,
   "id": "56933c26",
   "metadata": {},
   "outputs": [],
   "source": [
    "mylist = []\n",
    "\n",
    "for letter in mystring:\n",
    "    mylist.append(letter)"
   ]
  },
  {
   "cell_type": "code",
   "execution_count": 3,
   "id": "78ed2f6d",
   "metadata": {},
   "outputs": [
    {
     "data": {
      "text/plain": [
       "['h', 'e', 'l', 'l', 'o']"
      ]
     },
     "execution_count": 3,
     "metadata": {},
     "output_type": "execute_result"
    }
   ],
   "source": [
    "mylist"
   ]
  },
  {
   "cell_type": "markdown",
   "id": "5e6cacd6",
   "metadata": {},
   "source": [
    "This is common for beginners to do. Create an empty list, and then iterate through some other iterable and then append whatever element to the list.\n",
    "\n",
    "There is a more efficient way to do this in terms of how much code you need to use:\n",
    "You break down the for loop."
   ]
  },
  {
   "cell_type": "code",
   "execution_count": 4,
   "id": "64219010",
   "metadata": {},
   "outputs": [],
   "source": [
    "#mylist = []\n",
    "#for letter in mystring:\n",
    " #   mylist.append(letter)\n",
    "#instead of this, do:\n",
    "#letter for letter in mystring\n",
    "#But then put it in mylist = []"
   ]
  },
  {
   "cell_type": "code",
   "execution_count": 5,
   "id": "9e6d6dcb",
   "metadata": {},
   "outputs": [],
   "source": [
    "mylist = [letter for letter in mystring]"
   ]
  },
  {
   "cell_type": "code",
   "execution_count": 6,
   "id": "f4fc60e6",
   "metadata": {},
   "outputs": [
    {
     "data": {
      "text/plain": [
       "['h', 'e', 'l', 'l', 'o']"
      ]
     },
     "execution_count": 6,
     "metadata": {},
     "output_type": "execute_result"
    }
   ],
   "source": [
    "mylist"
   ]
  },
  {
   "cell_type": "markdown",
   "id": "375b1c62",
   "metadata": {},
   "source": [
    "The logic is essentially a flattened out for loop."
   ]
  },
  {
   "cell_type": "code",
   "execution_count": 11,
   "id": "bb611502",
   "metadata": {},
   "outputs": [],
   "source": [
    "mylist = [x for x in 'word']\n",
    "#x is just a temp variable name, you can call it whatever you want.\n",
    "#it means: element for element in 'word'"
   ]
  },
  {
   "cell_type": "code",
   "execution_count": 9,
   "id": "2c2ffeb4",
   "metadata": {},
   "outputs": [
    {
     "data": {
      "text/plain": [
       "['w', 'o', 'r', 'd']"
      ]
     },
     "execution_count": 9,
     "metadata": {},
     "output_type": "execute_result"
    }
   ],
   "source": [
    "mylist"
   ]
  },
  {
   "cell_type": "code",
   "execution_count": 15,
   "id": "0b0e9381",
   "metadata": {},
   "outputs": [],
   "source": [
    "mylist = [num for num in range(0,11)]"
   ]
  },
  {
   "cell_type": "code",
   "execution_count": 16,
   "id": "648f83be",
   "metadata": {},
   "outputs": [
    {
     "data": {
      "text/plain": [
       "[0, 1, 2, 3, 4, 5, 6, 7, 8, 9, 10]"
      ]
     },
     "execution_count": 16,
     "metadata": {},
     "output_type": "execute_result"
    }
   ],
   "source": [
    "mylist"
   ]
  },
  {
   "cell_type": "markdown",
   "id": "35234461",
   "metadata": {},
   "source": [
    "Now, for example, if you wanted to grab the square in that range, you can do the below:"
   ]
  },
  {
   "cell_type": "code",
   "execution_count": 23,
   "id": "6cad4ff5",
   "metadata": {},
   "outputs": [],
   "source": [
    "mylist = [num**2 for num in range(0,11)]\n",
    "#You are appending whatever the first elements happens to be, in this case, num**2"
   ]
  },
  {
   "cell_type": "code",
   "execution_count": 19,
   "id": "2b3c04e8",
   "metadata": {},
   "outputs": [
    {
     "data": {
      "text/plain": [
       "[0, 1, 4, 9, 16, 25, 36, 49, 64, 81, 100]"
      ]
     },
     "execution_count": 19,
     "metadata": {},
     "output_type": "execute_result"
    }
   ],
   "source": [
    "mylist"
   ]
  },
  {
   "cell_type": "code",
   "execution_count": 20,
   "id": "3dc99e90",
   "metadata": {},
   "outputs": [],
   "source": [
    "#The above is like if we were to do this:"
   ]
  },
  {
   "cell_type": "code",
   "execution_count": 22,
   "id": "44625b5c",
   "metadata": {},
   "outputs": [],
   "source": [
    "#mylist = []\n",
    "\n",
    "#for letter in mystring:\n",
    "    #mylist.append(letter**2)"
   ]
  },
  {
   "cell_type": "code",
   "execution_count": 28,
   "id": "52edf660",
   "metadata": {},
   "outputs": [],
   "source": [
    "mylist = [x**2 for x in range(0,11) if x % 2 == 0]"
   ]
  },
  {
   "cell_type": "code",
   "execution_count": 29,
   "id": "be6544e1",
   "metadata": {},
   "outputs": [
    {
     "data": {
      "text/plain": [
       "[0, 4, 16, 36, 64, 100]"
      ]
     },
     "execution_count": 29,
     "metadata": {},
     "output_type": "execute_result"
    }
   ],
   "source": [
    "mylist"
   ]
  },
  {
   "cell_type": "code",
   "execution_count": 31,
   "id": "44d427a3",
   "metadata": {},
   "outputs": [],
   "source": [
    "celcius = [0,10,20,34.5]\n",
    "\n",
    "fahrenheit = [(9/5)*temp + 32 for temp in celcius]"
   ]
  },
  {
   "cell_type": "code",
   "execution_count": 33,
   "id": "974cddd7",
   "metadata": {},
   "outputs": [
    {
     "data": {
      "text/plain": [
       "[32.0, 50.0, 68.0, 94.1]"
      ]
     },
     "execution_count": 33,
     "metadata": {},
     "output_type": "execute_result"
    }
   ],
   "source": [
    "fahrenheit"
   ]
  },
  {
   "cell_type": "markdown",
   "id": "5a5bb4d1",
   "metadata": {},
   "source": [
    "The above is the exact same things as doing:"
   ]
  },
  {
   "cell_type": "code",
   "execution_count": 34,
   "id": "ae516be8",
   "metadata": {},
   "outputs": [],
   "source": [
    "fahrenheit = []\n",
    "\n",
    "for temp in celcius:\n",
    "    fahrenheit.append((9/5)*temp + 32)"
   ]
  },
  {
   "cell_type": "code",
   "execution_count": 35,
   "id": "4a5ab199",
   "metadata": {},
   "outputs": [
    {
     "data": {
      "text/plain": [
       "[32.0, 50.0, 68.0, 94.1]"
      ]
     },
     "execution_count": 35,
     "metadata": {},
     "output_type": "execute_result"
    }
   ],
   "source": [
    "fahrenheit"
   ]
  },
  {
   "cell_type": "markdown",
   "id": "49b04e5a",
   "metadata": {},
   "source": [
    "Basically when flattening the for loop, we are getting rid of the append function. It is applied by default when its put in that list comprehension.\n",
    "\n",
    "You can also add else statements within this but it is not recommended because it starts making the code a little too complicated to read and can be hard to come back to and read a few months later. So try to avoid it.\n",
    "\n",
    "Here is an example of that:"
   ]
  },
  {
   "cell_type": "code",
   "execution_count": 36,
   "id": "5706ce9a",
   "metadata": {},
   "outputs": [],
   "source": [
    "results = [x if x%2==0 else 'ODD' for x in range(0,11)]"
   ]
  },
  {
   "cell_type": "code",
   "execution_count": 37,
   "id": "cc4fda27",
   "metadata": {},
   "outputs": [
    {
     "data": {
      "text/plain": [
       "[0, 'ODD', 2, 'ODD', 4, 'ODD', 6, 'ODD', 8, 'ODD', 10]"
      ]
     },
     "execution_count": 37,
     "metadata": {},
     "output_type": "execute_result"
    }
   ],
   "source": [
    "results"
   ]
  },
  {
   "cell_type": "markdown",
   "id": "cc434b5b",
   "metadata": {},
   "source": [
    "Note how the order is different and the if statement is now at the beginning and not after the for loop statement."
   ]
  },
  {
   "cell_type": "markdown",
   "id": "a79542af",
   "metadata": {},
   "source": [
    "You can also do nested stuff as well but you may want to take it easy at first with this."
   ]
  },
  {
   "cell_type": "code",
   "execution_count": 38,
   "id": "53862c01",
   "metadata": {},
   "outputs": [],
   "source": [
    "mylist = []\n",
    "\n",
    "for x in  [2,4,6]:\n",
    "    for y in [100,200,300]:\n",
    "        mylist.append(x*y)"
   ]
  },
  {
   "cell_type": "code",
   "execution_count": 39,
   "id": "466a08e4",
   "metadata": {},
   "outputs": [
    {
     "data": {
      "text/plain": [
       "[200, 400, 600, 400, 800, 1200, 600, 1200, 1800]"
      ]
     },
     "execution_count": 39,
     "metadata": {},
     "output_type": "execute_result"
    }
   ],
   "source": [
    "mylist"
   ]
  },
  {
   "cell_type": "markdown",
   "id": "1f4cc919",
   "metadata": {},
   "source": [
    "That is a nested for loop. What it does is it takes 2, multiples it by 100, then 200, then 300, then 4 multiplied by 100, 200, 300, then 6 multiplied by 100, then 200 then 300."
   ]
  },
  {
   "cell_type": "markdown",
   "id": "8e426dda",
   "metadata": {},
   "source": [
    "To do this with list comprehensions you would do this:"
   ]
  },
  {
   "cell_type": "code",
   "execution_count": 40,
   "id": "52b56007",
   "metadata": {},
   "outputs": [],
   "source": [
    "mylist = [x*y for x in [2,4,6] for y in [100,200,300]]"
   ]
  },
  {
   "cell_type": "code",
   "execution_count": 41,
   "id": "95775319",
   "metadata": {},
   "outputs": [
    {
     "data": {
      "text/plain": [
       "[200, 400, 600, 400, 800, 1200, 600, 1200, 1800]"
      ]
     },
     "execution_count": 41,
     "metadata": {},
     "output_type": "execute_result"
    }
   ],
   "source": [
    "mylist"
   ]
  },
  {
   "cell_type": "code",
   "execution_count": null,
   "id": "7814d39c",
   "metadata": {},
   "outputs": [],
   "source": []
  }
 ],
 "metadata": {
  "kernelspec": {
   "display_name": "Python 3 (ipykernel)",
   "language": "python",
   "name": "python3"
  },
  "language_info": {
   "codemirror_mode": {
    "name": "ipython",
    "version": 3
   },
   "file_extension": ".py",
   "mimetype": "text/x-python",
   "name": "python",
   "nbconvert_exporter": "python",
   "pygments_lexer": "ipython3",
   "version": "3.11.4"
  }
 },
 "nbformat": 4,
 "nbformat_minor": 5
}
