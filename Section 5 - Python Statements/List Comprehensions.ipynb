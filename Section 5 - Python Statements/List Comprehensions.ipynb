{
 "cells": [
  {
   "cell_type": "markdown",
   "id": "eccd832e",
   "metadata": {},
   "source": [
    "List comprehensions are a unique way of quickl;y creating a list with Python.\n",
    "\n",
    "If you find yourself using a for loop along with .append() to create a list, List comprehensions are a good alternative."
   ]
  },
  {
   "cell_type": "code",
   "execution_count": null,
   "id": "46356819",
   "metadata": {},
   "outputs": [],
   "source": []
  }
 ],
 "metadata": {
  "kernelspec": {
   "display_name": "Python 3 (ipykernel)",
   "language": "python",
   "name": "python3"
  },
  "language_info": {
   "codemirror_mode": {
    "name": "ipython",
    "version": 3
   },
   "file_extension": ".py",
   "mimetype": "text/x-python",
   "name": "python",
   "nbconvert_exporter": "python",
   "pygments_lexer": "ipython3",
   "version": "3.11.4"
  }
 },
 "nbformat": 4,
 "nbformat_minor": 5
}
