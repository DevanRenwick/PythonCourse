{
 "cells": [
  {
   "cell_type": "markdown",
   "id": "dea5a473",
   "metadata": {},
   "source": [
    "Control Flow"
   ]
  },
  {
   "cell_type": "code",
   "execution_count": 2,
   "id": "18beec45",
   "metadata": {},
   "outputs": [],
   "source": [
    "#if some_condition:\n",
    "    #executre some code\n",
    "#elif some_other_condition\n",
    "    #do something different\n",
    "#else:\n",
    "    #do something else"
   ]
  },
  {
   "cell_type": "code",
   "execution_count": 3,
   "id": "343f72e4",
   "metadata": {},
   "outputs": [
    {
     "name": "stdout",
     "output_type": "stream",
     "text": [
      "It's true\n"
     ]
    }
   ],
   "source": [
    "if True:\n",
    "    print(\"It's true\")"
   ]
  },
  {
   "cell_type": "code",
   "execution_count": 4,
   "id": "d6dfe219",
   "metadata": {},
   "outputs": [
    {
     "name": "stdout",
     "output_type": "stream",
     "text": [
      "It's true\n"
     ]
    }
   ],
   "source": [
    "if 3 > 2:\n",
    "    print(\"It's true\")"
   ]
  },
  {
   "cell_type": "code",
   "execution_count": 5,
   "id": "e0c2ea81",
   "metadata": {},
   "outputs": [
    {
     "name": "stdout",
     "output_type": "stream",
     "text": [
      "Feed me\n"
     ]
    }
   ],
   "source": [
    "hungry = True\n",
    "if hungry:\n",
    "    print(\"Feed me\")"
   ]
  },
  {
   "cell_type": "code",
   "execution_count": 6,
   "id": "80435189",
   "metadata": {},
   "outputs": [],
   "source": [
    "hungry = False\n",
    "if hungry:\n",
    "    print(\"Feed me\")"
   ]
  },
  {
   "cell_type": "markdown",
   "id": "26453ad8",
   "metadata": {},
   "source": [
    "Since this is false it does not print."
   ]
  },
  {
   "cell_type": "code",
   "execution_count": 7,
   "id": "b158a569",
   "metadata": {},
   "outputs": [
    {
     "name": "stdout",
     "output_type": "stream",
     "text": [
      "I am not hungry\n"
     ]
    }
   ],
   "source": [
    "hungry = False\n",
    "if hungry:\n",
    "    print(\"Feed me\")\n",
    "else:\n",
    "    print(\"I am not hungry\")"
   ]
  },
  {
   "cell_type": "code",
   "execution_count": 11,
   "id": "eddfb088",
   "metadata": {},
   "outputs": [
    {
     "name": "stdout",
     "output_type": "stream",
     "text": [
      "Money is cool\n"
     ]
    }
   ],
   "source": [
    "loc = \"Bank\"\n",
    "if loc == \"Auto Shop\":\n",
    "    print(\"Cars are cool\")\n",
    "elif loc == \"Bank\":\n",
    "    print(\"Money is cool\")\n",
    "else:\n",
    "    print(\"I do not know much\")"
   ]
  },
  {
   "cell_type": "code",
   "execution_count": 13,
   "id": "977c0ae0",
   "metadata": {},
   "outputs": [
    {
     "name": "stdout",
     "output_type": "stream",
     "text": [
      "Hello Sammy\n"
     ]
    }
   ],
   "source": [
    "name = \"Sammy\"\n",
    "if name == \"Frankie\":\n",
    "    print(\"Hello Frankie\")\n",
    "elif name == \"Sammy\":\n",
    "    print(\"Hello Sammy\")\n",
    "else:\n",
    "    print(\"What is your name\")"
   ]
  },
  {
   "cell_type": "code",
   "execution_count": null,
   "id": "df22ce3c",
   "metadata": {},
   "outputs": [],
   "source": []
  }
 ],
 "metadata": {
  "kernelspec": {
   "display_name": "Python 3 (ipykernel)",
   "language": "python",
   "name": "python3"
  },
  "language_info": {
   "codemirror_mode": {
    "name": "ipython",
    "version": 3
   },
   "file_extension": ".py",
   "mimetype": "text/x-python",
   "name": "python",
   "nbconvert_exporter": "python",
   "pygments_lexer": "ipython3",
   "version": "3.11.4"
  }
 },
 "nbformat": 4,
 "nbformat_minor": 5
}
