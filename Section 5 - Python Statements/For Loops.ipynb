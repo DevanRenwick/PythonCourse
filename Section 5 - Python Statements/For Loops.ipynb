{
 "cells": [
  {
   "cell_type": "markdown",
   "id": "46e9c065",
   "metadata": {},
   "source": [
    "# For Loops"
   ]
  },
  {
   "cell_type": "markdown",
   "id": "00d3a928",
   "metadata": {},
   "source": [
    "The term iterable means you can iterate over the object, meaning you can perfrom that action for every thing in that object.\n",
    "\n",
    "Ex: you can iterate over every character in a string, iterate over every item in a list, iterate over every key in a dictionary."
   ]
  },
  {
   "cell_type": "code",
   "execution_count": null,
   "id": "3a6b2e2b",
   "metadata": {},
   "outputs": [],
   "source": []
  }
 ],
 "metadata": {
  "kernelspec": {
   "display_name": "Python 3 (ipykernel)",
   "language": "python",
   "name": "python3"
  },
  "language_info": {
   "codemirror_mode": {
    "name": "ipython",
    "version": 3
   },
   "file_extension": ".py",
   "mimetype": "text/x-python",
   "name": "python",
   "nbconvert_exporter": "python",
   "pygments_lexer": "ipython3",
   "version": "3.11.4"
  }
 },
 "nbformat": 4,
 "nbformat_minor": 5
}
