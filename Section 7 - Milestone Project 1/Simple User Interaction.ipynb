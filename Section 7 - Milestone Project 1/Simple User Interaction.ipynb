{
 "cells": [
  {
   "cell_type": "markdown",
   "id": "8b16e985",
   "metadata": {},
   "source": [
    "# This program will:\n",
    "+ Display a list\n",
    "+ Have a user choose an index position and an input value\n",
    "+ Replace a value at index position with user's chosen input value"
   ]
  },
  {
   "cell_type": "code",
   "execution_count": 9,
   "id": "e960ae08",
   "metadata": {},
   "outputs": [],
   "source": [
    "game_list = [0,1,2]"
   ]
  },
  {
   "cell_type": "code",
   "execution_count": 1,
   "id": "9a2af624",
   "metadata": {},
   "outputs": [],
   "source": [
    "# Let's start off with creating the display function\n",
    "def display_game(game_list):\n",
    "    print(\"Here is the current list: \")\n",
    "    print(game_list)"
   ]
  },
  {
   "cell_type": "code",
   "execution_count": 8,
   "id": "82e52821",
   "metadata": {},
   "outputs": [
    {
     "name": "stdout",
     "output_type": "stream",
     "text": [
      "Here is the current list: \n",
      "[0, 1, 2]\n"
     ]
    }
   ],
   "source": [
    "display_game(game_list)"
   ]
  },
  {
   "cell_type": "code",
   "execution_count": 2,
   "id": "4c25d89d",
   "metadata": {},
   "outputs": [],
   "source": [
    "# Get a position choice:\n",
    "def position_choice():\n",
    "    choice = 'wrong'\n",
    "    while choice not in ['0','1','2']:\n",
    "        choice = input(\"Pick a position (0,1,2): \")\n",
    "        if choice not in ['0','1','2']: # Could have made this into a variable named acceptable_values.\n",
    "            print(\"Sorry, invalid choice.\")\n",
    "            \n",
    "            \n",
    "    return int(choice)"
   ]
  },
  {
   "cell_type": "code",
   "execution_count": 6,
   "id": "45c6fb0c",
   "metadata": {},
   "outputs": [
    {
     "name": "stdout",
     "output_type": "stream",
     "text": [
      "Pick a position (0,1,2): 1\n"
     ]
    },
    {
     "data": {
      "text/plain": [
       "1"
      ]
     },
     "execution_count": 6,
     "metadata": {},
     "output_type": "execute_result"
    }
   ],
   "source": [
    "position_choice()"
   ]
  },
  {
   "cell_type": "code",
   "execution_count": 3,
   "id": "3aaee3fa",
   "metadata": {},
   "outputs": [],
   "source": [
    "# Now, if the player wants to chose a replacement value.\n",
    "def replacement_choice(game_list,position):\n",
    "    user_placement = input(\"Type a string to place at position: \")\n",
    "    game_list[position] = user_placement\n",
    "    return game_list"
   ]
  },
  {
   "cell_type": "code",
   "execution_count": 11,
   "id": "c36e0863",
   "metadata": {},
   "outputs": [
    {
     "name": "stdout",
     "output_type": "stream",
     "text": [
      "Type a string to place at position: THIS\n"
     ]
    },
    {
     "data": {
      "text/plain": [
       "[0, 'THIS', 2]"
      ]
     },
     "execution_count": 11,
     "metadata": {},
     "output_type": "execute_result"
    }
   ],
   "source": [
    "replacement_choice(game_list,1)"
   ]
  },
  {
   "cell_type": "code",
   "execution_count": 12,
   "id": "e280696a",
   "metadata": {},
   "outputs": [
    {
     "name": "stdout",
     "output_type": "stream",
     "text": [
      "Type a string to place at position: THAT\n"
     ]
    },
    {
     "data": {
      "text/plain": [
       "[0, 'THIS', 'THAT']"
      ]
     },
     "execution_count": 12,
     "metadata": {},
     "output_type": "execute_result"
    }
   ],
   "source": [
    "replacement_choice(game_list,2)"
   ]
  },
  {
   "cell_type": "code",
   "execution_count": 13,
   "id": "e772bb19",
   "metadata": {},
   "outputs": [],
   "source": [
    "# Game on choice. Its similar to position choice"
   ]
  },
  {
   "cell_type": "code",
   "execution_count": 4,
   "id": "aa681b91",
   "metadata": {},
   "outputs": [],
   "source": [
    "def gameon_choice():\n",
    "    choice = 'wrong'\n",
    "    while choice not in ['Y','N']:\n",
    "        choice = input(\"Keep playing? (Y or N) \")\n",
    "        if choice not in ['Y','N']: # Could have made this into a variable named acceptable_values.\n",
    "            print(\"Sorry, please chose Y or N.\")\n",
    "            \n",
    "            \n",
    "    if choice == \"Y\":\n",
    "        return True\n",
    "    else:\n",
    "        print(\"Game is over!\")\n",
    "        return False"
   ]
  },
  {
   "cell_type": "code",
   "execution_count": 16,
   "id": "38a7732e",
   "metadata": {},
   "outputs": [
    {
     "name": "stdout",
     "output_type": "stream",
     "text": [
      "Keep playing? (Y or N) N\n",
      "Game is over!\n"
     ]
    },
    {
     "data": {
      "text/plain": [
       "False"
      ]
     },
     "execution_count": 16,
     "metadata": {},
     "output_type": "execute_result"
    }
   ],
   "source": [
    "gameon_choice()"
   ]
  },
  {
   "cell_type": "code",
   "execution_count": 17,
   "id": "00f45c4a",
   "metadata": {},
   "outputs": [],
   "source": [
    "# To finish this off, we have to put this all together."
   ]
  },
  {
   "cell_type": "code",
   "execution_count": 5,
   "id": "6706bffd",
   "metadata": {},
   "outputs": [
    {
     "name": "stdout",
     "output_type": "stream",
     "text": [
      "Here is the current list: \n",
      "[0, 1, 2]\n",
      "Pick a position (0,1,2): 0\n",
      "Type a string to place at position: test\n",
      "Here is the current list: \n",
      "['test', 1, 2]\n",
      "Keep playing? (Y or N) Y\n",
      "Here is the current list: \n",
      "['test', 1, 2]\n",
      "Pick a position (0,1,2): N\n",
      "Sorry, invalid choice.\n",
      "Pick a position (0,1,2): 2\n",
      "Type a string to place at position: new\n",
      "Here is the current list: \n",
      "['test', 1, 'new']\n",
      "Keep playing? (Y or N) N\n",
      "Game is over!\n"
     ]
    }
   ],
   "source": [
    "# Set these variables first.\n",
    "game_on = True\n",
    "game_list = [0,1,2]\n",
    "\n",
    "while game_on:\n",
    "    display_game(game_list)\n",
    "    position = position_choice()\n",
    "    # For this, since the updated game list is returned in the function, you want to set game_list to replace it. Updating with the new game list\n",
    "    game_list = replacement_choice(game_list,position)\n",
    "    display_game(game_list)\n",
    "    game_on = gameon_choice()"
   ]
  },
  {
   "cell_type": "code",
   "execution_count": null,
   "id": "008aba9b",
   "metadata": {},
   "outputs": [],
   "source": []
  }
 ],
 "metadata": {
  "kernelspec": {
   "display_name": "Python 3 (ipykernel)",
   "language": "python",
   "name": "python3"
  },
  "language_info": {
   "codemirror_mode": {
    "name": "ipython",
    "version": 3
   },
   "file_extension": ".py",
   "mimetype": "text/x-python",
   "name": "python",
   "nbconvert_exporter": "python",
   "pygments_lexer": "ipython3",
   "version": "3.11.4"
  }
 },
 "nbformat": 4,
 "nbformat_minor": 5
}
