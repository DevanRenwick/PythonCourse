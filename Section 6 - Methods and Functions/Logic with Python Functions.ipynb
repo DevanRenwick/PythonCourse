{
 "cells": [
  {
   "cell_type": "markdown",
   "id": "85b27e05",
   "metadata": {},
   "source": [
    "# Functions with Logic"
   ]
  },
  {
   "cell_type": "markdown",
   "id": "47245bae",
   "metadata": {},
   "source": [
    "Revisiting the mod operator: If the mod operator ends up aas 0, then the number that was divisible by the mod operator is even."
   ]
  },
  {
   "cell_type": "code",
   "execution_count": 1,
   "id": "c7642226",
   "metadata": {},
   "outputs": [
    {
     "data": {
      "text/plain": [
       "0"
      ]
     },
     "execution_count": 1,
     "metadata": {},
     "output_type": "execute_result"
    }
   ],
   "source": [
    "2 % 2"
   ]
  },
  {
   "cell_type": "code",
   "execution_count": 2,
   "id": "0d81653a",
   "metadata": {},
   "outputs": [
    {
     "data": {
      "text/plain": [
       "1"
      ]
     },
     "execution_count": 2,
     "metadata": {},
     "output_type": "execute_result"
    }
   ],
   "source": [
    "3 % 2"
   ]
  },
  {
   "cell_type": "code",
   "execution_count": 3,
   "id": "aa0a1fd6",
   "metadata": {},
   "outputs": [
    {
     "data": {
      "text/plain": [
       "1"
      ]
     },
     "execution_count": 3,
     "metadata": {},
     "output_type": "execute_result"
    }
   ],
   "source": [
    "41 % 40"
   ]
  },
  {
   "cell_type": "code",
   "execution_count": 4,
   "id": "80b02264",
   "metadata": {},
   "outputs": [
    {
     "data": {
      "text/plain": [
       "0"
      ]
     },
     "execution_count": 4,
     "metadata": {},
     "output_type": "execute_result"
    }
   ],
   "source": [
    "20 % 2 #This will always be even"
   ]
  },
  {
   "cell_type": "code",
   "execution_count": 5,
   "id": "dc1ee02e",
   "metadata": {},
   "outputs": [
    {
     "data": {
      "text/plain": [
       "True"
      ]
     },
     "execution_count": 5,
     "metadata": {},
     "output_type": "execute_result"
    }
   ],
   "source": [
    "20 % 2 == 0"
   ]
  },
  {
   "cell_type": "code",
   "execution_count": 6,
   "id": "b9c36112",
   "metadata": {},
   "outputs": [
    {
     "data": {
      "text/plain": [
       "False"
      ]
     },
     "execution_count": 6,
     "metadata": {},
     "output_type": "execute_result"
    }
   ],
   "source": [
    "21 % 2 == 0"
   ]
  },
  {
   "cell_type": "markdown",
   "id": "c104c3d8",
   "metadata": {},
   "source": [
    "Let's turn this into a function."
   ]
  },
  {
   "cell_type": "code",
   "execution_count": 7,
   "id": "c5ddd1ed",
   "metadata": {},
   "outputs": [],
   "source": [
    "def even_check(number):\n",
    "    result = number % 2 == 0\n",
    "    return result"
   ]
  },
  {
   "cell_type": "code",
   "execution_count": 8,
   "id": "3978f3ab",
   "metadata": {},
   "outputs": [
    {
     "data": {
      "text/plain": [
       "True"
      ]
     },
     "execution_count": 8,
     "metadata": {},
     "output_type": "execute_result"
    }
   ],
   "source": [
    "even_check(20)"
   ]
  },
  {
   "cell_type": "code",
   "execution_count": 9,
   "id": "14700bac",
   "metadata": {},
   "outputs": [
    {
     "data": {
      "text/plain": [
       "False"
      ]
     },
     "execution_count": 9,
     "metadata": {},
     "output_type": "execute_result"
    }
   ],
   "source": [
    "even_check(21)"
   ]
  },
  {
   "cell_type": "markdown",
   "id": "baa48553",
   "metadata": {},
   "source": [
    "## So the above is how I would normally do it. But you can actually do it with less lines of code since it doesn't need to be stored in result."
   ]
  },
  {
   "cell_type": "code",
   "execution_count": 10,
   "id": "5821f552",
   "metadata": {},
   "outputs": [],
   "source": [
    "def even_check(number):\n",
    "    return number % 2 == 0"
   ]
  },
  {
   "cell_type": "code",
   "execution_count": 11,
   "id": "24be14c9",
   "metadata": {},
   "outputs": [
    {
     "data": {
      "text/plain": [
       "False"
      ]
     },
     "execution_count": 11,
     "metadata": {},
     "output_type": "execute_result"
    }
   ],
   "source": [
    "even_check(43)"
   ]
  },
  {
   "cell_type": "code",
   "execution_count": 12,
   "id": "3285196a",
   "metadata": {},
   "outputs": [],
   "source": [
    "# RETURN TRUE IF ANY NUMBER IS EVEN INSIDE A LIST"
   ]
  },
  {
   "cell_type": "code",
   "execution_count": 44,
   "id": "cd3d2ba3",
   "metadata": {},
   "outputs": [],
   "source": [
    "def check_even_list(list1):\n",
    "    for num in list1:\n",
    "        if num % 2 == 0:\n",
    "            return True\n",
    "        else:\n",
    "            pass\n",
    "    return False"
   ]
  },
  {
   "cell_type": "code",
   "execution_count": 45,
   "id": "eef50c0b",
   "metadata": {},
   "outputs": [
    {
     "data": {
      "text/plain": [
       "False"
      ]
     },
     "execution_count": 45,
     "metadata": {},
     "output_type": "execute_result"
    }
   ],
   "source": [
    "check_even_list([1,3,5])"
   ]
  },
  {
   "cell_type": "code",
   "execution_count": 46,
   "id": "7595bae7",
   "metadata": {},
   "outputs": [
    {
     "data": {
      "text/plain": [
       "True"
      ]
     },
     "execution_count": 46,
     "metadata": {},
     "output_type": "execute_result"
    }
   ],
   "source": [
    "check_even_list([1,2,3,4,5])"
   ]
  },
  {
   "cell_type": "code",
   "execution_count": 40,
   "id": "578d1719",
   "metadata": {},
   "outputs": [
    {
     "data": {
      "text/plain": [
       "True"
      ]
     },
     "execution_count": 40,
     "metadata": {},
     "output_type": "execute_result"
    }
   ],
   "source": [
    "check_even_list([2,4,6])"
   ]
  },
  {
   "cell_type": "code",
   "execution_count": 41,
   "id": "83a9ab4b",
   "metadata": {},
   "outputs": [
    {
     "data": {
      "text/plain": [
       "True"
      ]
     },
     "execution_count": 41,
     "metadata": {},
     "output_type": "execute_result"
    }
   ],
   "source": [
    "check_even_list([1,3,5,6])"
   ]
  },
  {
   "cell_type": "code",
   "execution_count": 42,
   "id": "ae9b7dce",
   "metadata": {},
   "outputs": [
    {
     "data": {
      "text/plain": [
       "True"
      ]
     },
     "execution_count": 42,
     "metadata": {},
     "output_type": "execute_result"
    }
   ],
   "source": [
    "check_even_list([2,3,5,7])"
   ]
  },
  {
   "cell_type": "markdown",
   "id": "61e8bec3",
   "metadata": {},
   "source": [
    "So what this is doing is it's looping through the list until it finds the first even number and when it does it stops.\n",
    "\n",
    "Once you call return, the function is over."
   ]
  },
  {
   "cell_type": "code",
   "execution_count": 43,
   "id": "4eecf934",
   "metadata": {},
   "outputs": [],
   "source": [
    "# If we wanted to return false in the loop above, a common mistake would be to add:\n",
    "# else:\n",
    "#      return False\n",
    "# This is wrong because you can think of return as essentially breaking out of the function. In the case here, the if statement\n",
    "# will only check one number and determine if it's false or true since it is returning.\n",
    "# The indentation should align with the for loop to return False as it will complete the entire for loop"
   ]
  },
  {
   "cell_type": "markdown",
   "id": "8b23553d",
   "metadata": {},
   "source": [
    "Now let's adjust the loop so we can return all the even numbers within the list."
   ]
  },
  {
   "cell_type": "code",
   "execution_count": 47,
   "id": "599fb576",
   "metadata": {},
   "outputs": [],
   "source": [
    "def check_even_list(list1):\n",
    "    even_numbers = [] # placeholder since this variable is not being passed in through function\n",
    "    \n",
    "    for num in list1:\n",
    "        if num % 2 == 0:\n",
    "            even_numbers.append(num)\n",
    "        else:\n",
    "            pass\n",
    "    return even_numbers # You want to loop through the whole list before returning even_numbers"
   ]
  },
  {
   "cell_type": "code",
   "execution_count": 48,
   "id": "77c578f2",
   "metadata": {},
   "outputs": [
    {
     "data": {
      "text/plain": [
       "[2, 4]"
      ]
     },
     "execution_count": 48,
     "metadata": {},
     "output_type": "execute_result"
    }
   ],
   "source": [
    "check_even_list([1,2,3,4,5])"
   ]
  },
  {
   "cell_type": "code",
   "execution_count": 49,
   "id": "a7a74db2",
   "metadata": {},
   "outputs": [
    {
     "data": {
      "text/plain": [
       "[]"
      ]
     },
     "execution_count": 49,
     "metadata": {},
     "output_type": "execute_result"
    }
   ],
   "source": [
    "check_even_list([1,3,5])"
   ]
  },
  {
   "cell_type": "code",
   "execution_count": null,
   "id": "d84dba7c",
   "metadata": {},
   "outputs": [],
   "source": []
  }
 ],
 "metadata": {
  "kernelspec": {
   "display_name": "Python 3 (ipykernel)",
   "language": "python",
   "name": "python3"
  },
  "language_info": {
   "codemirror_mode": {
    "name": "ipython",
    "version": 3
   },
   "file_extension": ".py",
   "mimetype": "text/x-python",
   "name": "python",
   "nbconvert_exporter": "python",
   "pygments_lexer": "ipython3",
   "version": "3.11.4"
  }
 },
 "nbformat": 4,
 "nbformat_minor": 5
}
