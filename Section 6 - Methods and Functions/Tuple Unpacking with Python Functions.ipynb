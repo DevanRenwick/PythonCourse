{
 "cells": [
  {
   "cell_type": "code",
   "execution_count": 5,
   "id": "1565b917",
   "metadata": {},
   "outputs": [],
   "source": [
    "stock_prices = [('APPLE', 200), ('GOOGLE', 400), ('MICROSOFT', 100)]"
   ]
  },
  {
   "cell_type": "code",
   "execution_count": 2,
   "id": "58925bb1",
   "metadata": {},
   "outputs": [
    {
     "name": "stdout",
     "output_type": "stream",
     "text": [
      "('APPLE', 200)\n",
      "('GOOGLE', 400)\n",
      "('MICROSOFT', 100)\n"
     ]
    }
   ],
   "source": [
    "for item in stock_prices:\n",
    "    print(item)"
   ]
  },
  {
   "cell_type": "markdown",
   "id": "cf64da4e",
   "metadata": {},
   "source": [
    "I can also do tuple unpacking with these items so I can individually grab the items from the tuples"
   ]
  },
  {
   "cell_type": "code",
   "execution_count": 3,
   "id": "84ce3b01",
   "metadata": {},
   "outputs": [
    {
     "name": "stdout",
     "output_type": "stream",
     "text": [
      "APPLE\n",
      "GOOGLE\n",
      "MICROSOFT\n"
     ]
    }
   ],
   "source": [
    "for ticker,price in stock_prices:\n",
    "    print(ticker)"
   ]
  },
  {
   "cell_type": "code",
   "execution_count": 7,
   "id": "898953e2",
   "metadata": {},
   "outputs": [
    {
     "name": "stdout",
     "output_type": "stream",
     "text": [
      "200\n",
      "400\n",
      "100\n"
     ]
    }
   ],
   "source": [
    "for ticker,price in stock_prices:\n",
    "    print(price)"
   ]
  },
  {
   "cell_type": "markdown",
   "id": "a88f8566",
   "metadata": {},
   "source": [
    "If I wanted to see what a 10% increase looked like here, I could do:"
   ]
  },
  {
   "cell_type": "code",
   "execution_count": 8,
   "id": "9e232f01",
   "metadata": {},
   "outputs": [
    {
     "name": "stdout",
     "output_type": "stream",
     "text": [
      "220.0\n",
      "440.0\n",
      "110.0\n"
     ]
    }
   ],
   "source": [
    "for ticker,price in stock_prices:\n",
    "    print(price + (0.1 * price))"
   ]
  },
  {
   "cell_type": "markdown",
   "id": "5f2d4869",
   "metadata": {},
   "source": [
    "We can also do the above with functions."
   ]
  },
  {
   "cell_type": "code",
   "execution_count": 13,
   "id": "e7b6afe7",
   "metadata": {},
   "outputs": [],
   "source": [
    "work_hours = [('Abby', 100), ('Billy', 4000), ('Cassie', 800)]"
   ]
  },
  {
   "cell_type": "markdown",
   "id": "3fe9c7e9",
   "metadata": {},
   "source": [
    "In this example, we want to see who is employee of the month from working the most hours. We want to return not only the employee name, but also the amount of hours worked."
   ]
  },
  {
   "cell_type": "code",
   "execution_count": 10,
   "id": "a9090149",
   "metadata": {},
   "outputs": [],
   "source": [
    "def employee_check(work_hours): #This accepts a list of tuples.\n",
    "    current_max = 0 #placeholder\n",
    "    # current_max is going to start at 0, then compares to the others in the list to the current max hours, and if it beats the\n",
    "    # current max hours, then it will replace the number there. Then it will reset employee of the month to the string of name.\n",
    "    employee_of_the_month = '' #placeholder\n",
    "    \n",
    "    for employee,hours in work_hours:\n",
    "        if hours > current_max:\n",
    "            current_max = hours\n",
    "            employee_of_the_month = employee\n",
    "        else:\n",
    "            pass\n",
    "    \n",
    "    # Return\n",
    "    return (employee_of_the_month, current_max)"
   ]
  },
  {
   "cell_type": "code",
   "execution_count": 14,
   "id": "25037e19",
   "metadata": {},
   "outputs": [
    {
     "data": {
      "text/plain": [
       "('Billy', 4000)"
      ]
     },
     "execution_count": 14,
     "metadata": {},
     "output_type": "execute_result"
    }
   ],
   "source": [
    "employee_check(work_hours)"
   ]
  },
  {
   "cell_type": "code",
   "execution_count": 15,
   "id": "a0672f3e",
   "metadata": {},
   "outputs": [],
   "source": [
    "#So what I can do here is store that in result:"
   ]
  },
  {
   "cell_type": "code",
   "execution_count": 16,
   "id": "0120df95",
   "metadata": {},
   "outputs": [],
   "source": [
    "result = employee_check(work_hours)"
   ]
  },
  {
   "cell_type": "code",
   "execution_count": 18,
   "id": "f109bec3",
   "metadata": {},
   "outputs": [
    {
     "data": {
      "text/plain": [
       "('Billy', 4000)"
      ]
     },
     "execution_count": 18,
     "metadata": {},
     "output_type": "execute_result"
    }
   ],
   "source": [
    "result"
   ]
  },
  {
   "cell_type": "code",
   "execution_count": 23,
   "id": "e0965292",
   "metadata": {},
   "outputs": [],
   "source": [
    "# But if I want to tuple unpack it I can do this: this will give seperate variables."
   ]
  },
  {
   "cell_type": "code",
   "execution_count": 20,
   "id": "a4deec39",
   "metadata": {},
   "outputs": [],
   "source": [
    "name,hours = employee_check(work_hours)"
   ]
  },
  {
   "cell_type": "code",
   "execution_count": 21,
   "id": "c0a91150",
   "metadata": {},
   "outputs": [
    {
     "data": {
      "text/plain": [
       "4000"
      ]
     },
     "execution_count": 21,
     "metadata": {},
     "output_type": "execute_result"
    }
   ],
   "source": [
    "hours"
   ]
  },
  {
   "cell_type": "code",
   "execution_count": 22,
   "id": "5f4d00ca",
   "metadata": {},
   "outputs": [
    {
     "data": {
      "text/plain": [
       "'Billy'"
      ]
     },
     "execution_count": 22,
     "metadata": {},
     "output_type": "execute_result"
    }
   ],
   "source": [
    "name"
   ]
  },
  {
   "cell_type": "code",
   "execution_count": null,
   "id": "082d02a4",
   "metadata": {},
   "outputs": [],
   "source": []
  }
 ],
 "metadata": {
  "kernelspec": {
   "display_name": "Python 3 (ipykernel)",
   "language": "python",
   "name": "python3"
  },
  "language_info": {
   "codemirror_mode": {
    "name": "ipython",
    "version": 3
   },
   "file_extension": ".py",
   "mimetype": "text/x-python",
   "name": "python",
   "nbconvert_exporter": "python",
   "pygments_lexer": "ipython3",
   "version": "3.11.4"
  }
 },
 "nbformat": 4,
 "nbformat_minor": 5
}
