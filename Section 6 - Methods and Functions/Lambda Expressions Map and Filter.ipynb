{
 "cells": [
  {
   "cell_type": "markdown",
   "id": "0bbe6def",
   "metadata": {},
   "source": [
    "# Lambda"
   ]
  },
  {
   "cell_type": "markdown",
   "id": "3cbffaa9",
   "metadata": {},
   "source": [
    "#### Lambda expressions are a way to quickly create what are known as anonymous functions. Basically just one time use functions. You just use them one time and then never use them again."
   ]
  },
  {
   "cell_type": "markdown",
   "id": "a1e70712",
   "metadata": {},
   "source": [
    "# Map"
   ]
  },
  {
   "cell_type": "code",
   "execution_count": 5,
   "id": "d5c0ca0d",
   "metadata": {},
   "outputs": [],
   "source": [
    "def square(num):\n",
    "    return num ** 2"
   ]
  },
  {
   "cell_type": "code",
   "execution_count": 6,
   "id": "3c1a1b6b",
   "metadata": {},
   "outputs": [],
   "source": [
    "my_nums = [1,2,3,4,5]"
   ]
  },
  {
   "cell_type": "markdown",
   "id": "cb3a2568",
   "metadata": {},
   "source": [
    "What I want to do here is apply the square function to every number within my_nums list. I could use a for loop, but that could take a while. So I can use the map function."
   ]
  },
  {
   "cell_type": "code",
   "execution_count": 7,
   "id": "9f3cffbd",
   "metadata": {},
   "outputs": [
    {
     "data": {
      "text/plain": [
       "<map at 0x2432b029780>"
      ]
     },
     "execution_count": 7,
     "metadata": {},
     "output_type": "execute_result"
    }
   ],
   "source": [
    "map(square,my_nums)"
   ]
  },
  {
   "cell_type": "markdown",
   "id": "2cea9ec5",
   "metadata": {},
   "source": [
    "I have to iterate through this:"
   ]
  },
  {
   "cell_type": "code",
   "execution_count": 8,
   "id": "51253eb3",
   "metadata": {
    "scrolled": true
   },
   "outputs": [
    {
     "name": "stdout",
     "output_type": "stream",
     "text": [
      "1\n",
      "4\n",
      "9\n",
      "16\n",
      "25\n"
     ]
    }
   ],
   "source": [
    "for item in map(square,my_nums):\n",
    "    print(item)"
   ]
  },
  {
   "cell_type": "markdown",
   "id": "8301c9cb",
   "metadata": {},
   "source": [
    "Another way you can use this, if you want the list back, you can call in the built in list function."
   ]
  },
  {
   "cell_type": "code",
   "execution_count": 9,
   "id": "20f0c02c",
   "metadata": {},
   "outputs": [
    {
     "data": {
      "text/plain": [
       "[1, 4, 9, 16, 25]"
      ]
     },
     "execution_count": 9,
     "metadata": {},
     "output_type": "execute_result"
    }
   ],
   "source": [
    "list(map(square,my_nums))"
   ]
  },
  {
   "cell_type": "code",
   "execution_count": 10,
   "id": "d7836f57",
   "metadata": {},
   "outputs": [],
   "source": [
    "def splicer (mystring):\n",
    "    if len(mystring)%2 == 0:\n",
    "        return 'EVEN'\n",
    "    else:\n",
    "        return mystring[0]"
   ]
  },
  {
   "cell_type": "code",
   "execution_count": 11,
   "id": "5c3fecd9",
   "metadata": {},
   "outputs": [],
   "source": [
    "names = ['Andy','Eve','Sally']"
   ]
  },
  {
   "cell_type": "code",
   "execution_count": 12,
   "id": "4441ccc8",
   "metadata": {},
   "outputs": [
    {
     "data": {
      "text/plain": [
       "['EVEN', 'E', 'S']"
      ]
     },
     "execution_count": 12,
     "metadata": {},
     "output_type": "execute_result"
    }
   ],
   "source": [
    "list(map(splicer,names))"
   ]
  },
  {
   "cell_type": "markdown",
   "id": "3f559c88",
   "metadata": {},
   "source": [
    "# Filter"
   ]
  },
  {
   "cell_type": "markdown",
   "id": "0d2de8a4",
   "metadata": {},
   "source": [
    "### The Filter function returns an iterator yielding those items of the iterable for which you pass the item into the function, it's true. That just means you have to filter by a function that returns either true, or false."
   ]
  },
  {
   "cell_type": "code",
   "execution_count": 13,
   "id": "5bff73e5",
   "metadata": {},
   "outputs": [],
   "source": [
    "def check_even(num):\n",
    "    return num%2==0"
   ]
  },
  {
   "cell_type": "code",
   "execution_count": 14,
   "id": "3477c02a",
   "metadata": {},
   "outputs": [],
   "source": [
    "mynums = [1,2,3,4,5,6]"
   ]
  },
  {
   "cell_type": "markdown",
   "id": "a5ab38f6",
   "metadata": {},
   "source": [
    "### Now let's say I want to grab even numbers from this list. Or numbers that pass some sort of condition that I previously defined. Here I can use the filter function."
   ]
  },
  {
   "cell_type": "code",
   "execution_count": 15,
   "id": "8066f92f",
   "metadata": {},
   "outputs": [
    {
     "data": {
      "text/plain": [
       "<filter at 0x2432b1394b0>"
      ]
     },
     "execution_count": 15,
     "metadata": {},
     "output_type": "execute_result"
    }
   ],
   "source": [
    "filter(check_even,mynums)"
   ]
  },
  {
   "cell_type": "markdown",
   "id": "3b189869",
   "metadata": {},
   "source": [
    "### Same as above. It just returns a piece of memory so we want to make it into a list."
   ]
  },
  {
   "cell_type": "code",
   "execution_count": 16,
   "id": "1d929ffb",
   "metadata": {},
   "outputs": [
    {
     "data": {
      "text/plain": [
       "[2, 4, 6]"
      ]
     },
     "execution_count": 16,
     "metadata": {},
     "output_type": "execute_result"
    }
   ],
   "source": [
    "list(filter(check_even,mynums))"
   ]
  },
  {
   "cell_type": "markdown",
   "id": "e5f70ae4",
   "metadata": {},
   "source": [
    "Or we can iterate through it:"
   ]
  },
  {
   "cell_type": "code",
   "execution_count": 17,
   "id": "ff943ce4",
   "metadata": {},
   "outputs": [
    {
     "name": "stdout",
     "output_type": "stream",
     "text": [
      "2\n",
      "4\n",
      "6\n"
     ]
    }
   ],
   "source": [
    "for n in filter(check_even,mynums):\n",
    "    print(n)"
   ]
  },
  {
   "cell_type": "markdown",
   "id": "a327bf7d",
   "metadata": {},
   "source": [
    "Converting a function into a lambda expression."
   ]
  },
  {
   "cell_type": "code",
   "execution_count": 20,
   "id": "c500cfce",
   "metadata": {},
   "outputs": [],
   "source": [
    "def square(num):\n",
    "    return num ** 2"
   ]
  },
  {
   "cell_type": "code",
   "execution_count": 19,
   "id": "024eb50e",
   "metadata": {},
   "outputs": [
    {
     "data": {
      "text/plain": [
       "9"
      ]
     },
     "execution_count": 19,
     "metadata": {},
     "output_type": "execute_result"
    }
   ],
   "source": [
    "square(3)"
   ]
  },
  {
   "cell_type": "markdown",
   "id": "bebd23a9",
   "metadata": {},
   "source": [
    "Now, step by step, I am going to turn this into a Lambda expression."
   ]
  },
  {
   "cell_type": "markdown",
   "id": "ae5ec448",
   "metadata": {},
   "source": [
    "Turn it into a one liner."
   ]
  },
  {
   "cell_type": "code",
   "execution_count": 21,
   "id": "216445c7",
   "metadata": {},
   "outputs": [],
   "source": [
    "def square(num): return num ** 2 # By convention, this is not good. But python will not complain"
   ]
  },
  {
   "cell_type": "markdown",
   "id": "e6a3aaa0",
   "metadata": {},
   "source": [
    "Now, we are almost in the form of a lambda expression."
   ]
  },
  {
   "cell_type": "markdown",
   "id": "47e82ea2",
   "metadata": {},
   "source": [
    "Since a Lambda function is anonymous, and we only intend to use one time, we do not use def or give it a name."
   ]
  },
  {
   "cell_type": "code",
   "execution_count": 22,
   "id": "c14514ac",
   "metadata": {},
   "outputs": [
    {
     "data": {
      "text/plain": [
       "<function __main__.<lambda>(num)>"
      ]
     },
     "execution_count": 22,
     "metadata": {},
     "output_type": "execute_result"
    }
   ],
   "source": [
    "lambda num: num ** 2"
   ]
  },
  {
   "cell_type": "markdown",
   "id": "c888099d",
   "metadata": {},
   "source": [
    "It is assumed that it will return whatever is on the other side of the :"
   ]
  },
  {
   "cell_type": "markdown",
   "id": "69a9bd72",
   "metadata": {},
   "source": [
    "We can assign the lambda function."
   ]
  },
  {
   "cell_type": "code",
   "execution_count": 23,
   "id": "1eb8bf0c",
   "metadata": {},
   "outputs": [],
   "source": [
    "square = lambda num: num ** 2"
   ]
  },
  {
   "cell_type": "code",
   "execution_count": 24,
   "id": "e604d22a",
   "metadata": {},
   "outputs": [
    {
     "data": {
      "text/plain": [
       "729"
      ]
     },
     "execution_count": 24,
     "metadata": {},
     "output_type": "execute_result"
    }
   ],
   "source": [
    "square(27)"
   ]
  },
  {
   "cell_type": "markdown",
   "id": "daf87151",
   "metadata": {},
   "source": [
    "Now, we use the lambda function in conjunction with map and filter. This way we don't have to have the above like:\n",
    "list(map(square,mynums))"
   ]
  },
  {
   "cell_type": "markdown",
   "id": "696a62ec",
   "metadata": {},
   "source": [
    "If you only want to use this function once, it makes sense to take up less space."
   ]
  },
  {
   "cell_type": "code",
   "execution_count": 25,
   "id": "8d56cf2f",
   "metadata": {},
   "outputs": [
    {
     "data": {
      "text/plain": [
       "[1, 4, 9, 16, 25, 36]"
      ]
     },
     "execution_count": 25,
     "metadata": {},
     "output_type": "execute_result"
    }
   ],
   "source": [
    "list(map(lambda num:num**2,mynums))"
   ]
  },
  {
   "cell_type": "markdown",
   "id": "21d4da89",
   "metadata": {},
   "source": [
    "Let's convert the check_even function into a lambda expression:"
   ]
  },
  {
   "cell_type": "code",
   "execution_count": 26,
   "id": "0c8a1763",
   "metadata": {},
   "outputs": [
    {
     "data": {
      "text/plain": [
       "<function __main__.<lambda>(num)>"
      ]
     },
     "execution_count": 26,
     "metadata": {},
     "output_type": "execute_result"
    }
   ],
   "source": [
    "lambda num: num%2==0"
   ]
  },
  {
   "cell_type": "code",
   "execution_count": 27,
   "id": "e82efa6b",
   "metadata": {},
   "outputs": [
    {
     "data": {
      "text/plain": [
       "[2, 4, 6]"
      ]
     },
     "execution_count": 27,
     "metadata": {},
     "output_type": "execute_result"
    }
   ],
   "source": [
    "list(filter(lambda num:num%2==0,mynums))"
   ]
  },
  {
   "cell_type": "markdown",
   "id": "b1400104",
   "metadata": {},
   "source": [
    "Let's say you wanted to grab the first character of a string:"
   ]
  },
  {
   "cell_type": "code",
   "execution_count": 28,
   "id": "42b9aaab",
   "metadata": {},
   "outputs": [
    {
     "data": {
      "text/plain": [
       "['Andy', 'Eve', 'Sally']"
      ]
     },
     "execution_count": 28,
     "metadata": {},
     "output_type": "execute_result"
    }
   ],
   "source": [
    "names"
   ]
  },
  {
   "cell_type": "code",
   "execution_count": 30,
   "id": "26552c10",
   "metadata": {},
   "outputs": [
    {
     "data": {
      "text/plain": [
       "['A', 'E', 'S']"
      ]
     },
     "execution_count": 30,
     "metadata": {},
     "output_type": "execute_result"
    }
   ],
   "source": [
    "list(map(lambda name: name[0],names)) # name can be called anything, like x. Similar to functions."
   ]
  },
  {
   "cell_type": "markdown",
   "id": "28643713",
   "metadata": {},
   "source": [
    "Let's say we wanted to reverse the actual names"
   ]
  },
  {
   "cell_type": "code",
   "execution_count": 31,
   "id": "57506038",
   "metadata": {},
   "outputs": [
    {
     "data": {
      "text/plain": [
       "['ydnA', 'evE', 'yllaS']"
      ]
     },
     "execution_count": 31,
     "metadata": {},
     "output_type": "execute_result"
    }
   ],
   "source": [
    "list(map(lambda name: name[::-1],names))"
   ]
  },
  {
   "cell_type": "markdown",
   "id": "09c78ec4",
   "metadata": {},
   "source": [
    "Not every function is going to be directionally transitionable to the lambda function. You want to make sure you can still actually read it."
   ]
  },
  {
   "cell_type": "code",
   "execution_count": null,
   "id": "5824fcce",
   "metadata": {},
   "outputs": [],
   "source": []
  }
 ],
 "metadata": {
  "kernelspec": {
   "display_name": "Python 3 (ipykernel)",
   "language": "python",
   "name": "python3"
  },
  "language_info": {
   "codemirror_mode": {
    "name": "ipython",
    "version": 3
   },
   "file_extension": ".py",
   "mimetype": "text/x-python",
   "name": "python",
   "nbconvert_exporter": "python",
   "pygments_lexer": "ipython3",
   "version": "3.11.4"
  }
 },
 "nbformat": 4,
 "nbformat_minor": 5
}
