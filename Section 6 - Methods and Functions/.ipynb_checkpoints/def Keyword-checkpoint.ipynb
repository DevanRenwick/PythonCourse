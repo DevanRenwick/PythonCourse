{
 "cells": [
  {
   "cell_type": "markdown",
   "id": "cc62d399",
   "metadata": {},
   "source": [
    "Creating a function in Python requires the **def** keyword, correct indentation, and proper structure."
   ]
  },
  {
   "cell_type": "code",
   "execution_count": 11,
   "id": "13738df2",
   "metadata": {},
   "outputs": [
    {
     "data": {
      "text/plain": [
       "'\\nDocstring that explains the function. This does not run.\\n'"
      ]
     },
     "execution_count": 11,
     "metadata": {},
     "output_type": "execute_result"
    }
   ],
   "source": [
    "#def name_of_function(): #Snake casing for functions.\n",
    "'''\n",
    "Docstring that explains the function. This does not run.\n",
    "'''\n",
    "    #print(\"Hello\")"
   ]
  },
  {
   "cell_type": "markdown",
   "id": "4e391faf",
   "metadata": {},
   "source": [
    "Typically we will use the **return** keyword in the functions instead of just printing it out."
   ]
  },
  {
   "cell_type": "markdown",
   "id": "63ae3e4f",
   "metadata": {},
   "source": [
    "The **return** keyword allows us to assign the output of the function to a new variable."
   ]
  },
  {
   "cell_type": "code",
   "execution_count": 16,
   "id": "4ff012c8",
   "metadata": {},
   "outputs": [
    {
     "name": "stdout",
     "output_type": "stream",
     "text": [
      "3\n"
     ]
    }
   ],
   "source": [
    "def add_function(num1,num2):\n",
    "    return num1+num2\n",
    "result = add_function(1,2)\n",
    "print(result)"
   ]
  },
  {
   "cell_type": "markdown",
   "id": "0654113e",
   "metadata": {},
   "source": [
    "Return allows us to save the result to a variable whereas print does not."
   ]
  },
  {
   "cell_type": "code",
   "execution_count": null,
   "id": "387056d1",
   "metadata": {},
   "outputs": [],
   "source": []
  }
 ],
 "metadata": {
  "kernelspec": {
   "display_name": "Python 3 (ipykernel)",
   "language": "python",
   "name": "python3"
  },
  "language_info": {
   "codemirror_mode": {
    "name": "ipython",
    "version": 3
   },
   "file_extension": ".py",
   "mimetype": "text/x-python",
   "name": "python",
   "nbconvert_exporter": "python",
   "pygments_lexer": "ipython3",
   "version": "3.11.4"
  }
 },
 "nbformat": 4,
 "nbformat_minor": 5
}
