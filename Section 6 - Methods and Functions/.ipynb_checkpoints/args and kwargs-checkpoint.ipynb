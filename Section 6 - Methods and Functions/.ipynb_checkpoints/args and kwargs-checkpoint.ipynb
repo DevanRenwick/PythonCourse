{
 "cells": [
  {
   "cell_type": "markdown",
   "id": "8267391b",
   "metadata": {},
   "source": [
    "# *args and **kwards"
   ]
  },
  {
   "cell_type": "markdown",
   "id": "3a3d681b",
   "metadata": {},
   "source": [
    "#### These stand for: arguments and key word arguments."
   ]
  },
  {
   "cell_type": "code",
   "execution_count": 1,
   "id": "8d7f7ec8",
   "metadata": {},
   "outputs": [],
   "source": [
    "def myfunc(a,b):\n",
    "    # Returns 5% of the sum of a and b.\n",
    "    return sum((a,b)) * 0.05"
   ]
  },
  {
   "cell_type": "code",
   "execution_count": 2,
   "id": "b54a85b6",
   "metadata": {},
   "outputs": [
    {
     "data": {
      "text/plain": [
       "5.0"
      ]
     },
     "execution_count": 2,
     "metadata": {},
     "output_type": "execute_result"
    }
   ],
   "source": [
    "myfunc(40,60)"
   ]
  },
  {
   "cell_type": "markdown",
   "id": "dac89158",
   "metadata": {},
   "source": [
    "What if I had more numbers or paramaters to pass in? a and b are positional arguments. 40 is assigned to a since its in the first position and b is assigned to 60 since its in the second argument.\n",
    "\n",
    "What if we want to work with more paramaters? We could manually do this:"
   ]
  },
  {
   "cell_type": "code",
   "execution_count": 1,
   "id": "44593652",
   "metadata": {},
   "outputs": [],
   "source": [
    "def myfunc(a,b,c=0,d=0): # etc\n",
    "    # Returns 5% of the sum of a and b.\n",
    "    return sum((a,b,c,d)) * 0.05"
   ]
  },
  {
   "cell_type": "code",
   "execution_count": 2,
   "id": "01a49d49",
   "metadata": {},
   "outputs": [
    {
     "data": {
      "text/plain": [
       "7.5"
      ]
     },
     "execution_count": 2,
     "metadata": {},
     "output_type": "execute_result"
    }
   ],
   "source": [
    "myfunc(40,60,50)"
   ]
  },
  {
   "cell_type": "code",
   "execution_count": 4,
   "id": "52b5660d",
   "metadata": {},
   "outputs": [
    {
     "ename": "TypeError",
     "evalue": "myfunc() takes from 2 to 4 positional arguments but 5 were given",
     "output_type": "error",
     "traceback": [
      "\u001b[1;31m---------------------------------------------------------------------------\u001b[0m",
      "\u001b[1;31mTypeError\u001b[0m                                 Traceback (most recent call last)",
      "Cell \u001b[1;32mIn[4], line 1\u001b[0m\n\u001b[1;32m----> 1\u001b[0m myfunc(\u001b[38;5;241m40\u001b[39m,\u001b[38;5;241m60\u001b[39m,\u001b[38;5;241m50\u001b[39m,\u001b[38;5;241m90\u001b[39m,\u001b[38;5;241m20\u001b[39m)\n",
      "\u001b[1;31mTypeError\u001b[0m: myfunc() takes from 2 to 4 positional arguments but 5 were given"
     ]
    }
   ],
   "source": [
    "myfunc(40,60,50,90,20)"
   ]
  },
  {
   "cell_type": "code",
   "execution_count": 5,
   "id": "2989373f",
   "metadata": {},
   "outputs": [],
   "source": [
    "# This is where *args comes in handy."
   ]
  },
  {
   "cell_type": "code",
   "execution_count": 6,
   "id": "911184d8",
   "metadata": {},
   "outputs": [],
   "source": [
    "# It allows us to set this: myfunc(40,60,50,90,20) to take an arbitrary number of arguments."
   ]
  },
  {
   "cell_type": "code",
   "execution_count": 8,
   "id": "90735e75",
   "metadata": {},
   "outputs": [],
   "source": [
    "def myfunc(*args): # I can treat this like a tuple of parameters coming in.\n",
    "    return sum(args) * 0.05"
   ]
  },
  {
   "cell_type": "code",
   "execution_count": 9,
   "id": "c6904ec0",
   "metadata": {},
   "outputs": [
    {
     "data": {
      "text/plain": [
       "5.0"
      ]
     },
     "execution_count": 9,
     "metadata": {},
     "output_type": "execute_result"
    }
   ],
   "source": [
    "myfunc(40,60)"
   ]
  },
  {
   "cell_type": "code",
   "execution_count": 10,
   "id": "4783f1b1",
   "metadata": {},
   "outputs": [
    {
     "data": {
      "text/plain": [
       "29.6"
      ]
     },
     "execution_count": 10,
     "metadata": {},
     "output_type": "execute_result"
    }
   ],
   "source": [
    "myfunc(40,60,50,90,20,119,28,74,83,28)"
   ]
  },
  {
   "cell_type": "code",
   "execution_count": 11,
   "id": "7ccb812a",
   "metadata": {},
   "outputs": [],
   "source": [
    "# args, the word itself is arbitrary by itself. Just always use * with args."
   ]
  },
  {
   "cell_type": "code",
   "execution_count": 14,
   "id": "f9cd12af",
   "metadata": {},
   "outputs": [],
   "source": [
    "def myfunc(*args):\n",
    "    for item in args:\n",
    "        print(item)"
   ]
  },
  {
   "cell_type": "code",
   "execution_count": 15,
   "id": "dca85329",
   "metadata": {},
   "outputs": [
    {
     "name": "stdout",
     "output_type": "stream",
     "text": [
      "10\n",
      "20\n",
      "30\n",
      "40\n",
      "50\n"
     ]
    }
   ],
   "source": [
    "myfunc(10,20,30,40,50)"
   ]
  },
  {
   "cell_type": "code",
   "execution_count": 20,
   "id": "fa5f0da5",
   "metadata": {},
   "outputs": [],
   "source": [
    "# Builds a dictionary of key value pairs\n",
    "# **kwargs\n",
    "def myfunc(**kwargs):\n",
    "    print(kwargs)\n",
    "    if 'fruit' in kwargs:\n",
    "        print('My fruit of choice is {}'.format(kwargs['fruit']))\n",
    "    else:\n",
    "        print(\"I did not find any fruit here\")"
   ]
  },
  {
   "cell_type": "code",
   "execution_count": 21,
   "id": "ded5d711",
   "metadata": {},
   "outputs": [
    {
     "name": "stdout",
     "output_type": "stream",
     "text": [
      "{'fruit': 'apple', 'veggie': 'lettuce'}\n",
      "My fruit of choice is apple\n"
     ]
    }
   ],
   "source": [
    "myfunc(fruit = 'apple', veggie = 'lettuce')"
   ]
  },
  {
   "cell_type": "markdown",
   "id": "99818849",
   "metadata": {},
   "source": [
    "# *args will return back a tuple, and the ** kwargs will return back a dictionary."
   ]
  },
  {
   "cell_type": "code",
   "execution_count": 24,
   "id": "56cd46ff",
   "metadata": {},
   "outputs": [],
   "source": [
    "def myfunc(*args,**kwargs):\n",
    "    print(args)\n",
    "    print(kwargs)\n",
    "    print('I would like {} {}'.format(args[0],kwargs['food']))"
   ]
  },
  {
   "cell_type": "code",
   "execution_count": 25,
   "id": "46993ecc",
   "metadata": {},
   "outputs": [
    {
     "name": "stdout",
     "output_type": "stream",
     "text": [
      "(10, 20, 30)\n",
      "{'fruit': 'orange', 'food': 'eggs', 'animal': 'dog'}\n",
      "I would like 10 eggs\n"
     ]
    }
   ],
   "source": [
    "myfunc(10,20,30,fruit='orange', food = 'eggs', animal = 'dog')"
   ]
  },
  {
   "cell_type": "code",
   "execution_count": null,
   "id": "2c401a27",
   "metadata": {},
   "outputs": [],
   "source": []
  }
 ],
 "metadata": {
  "kernelspec": {
   "display_name": "Python 3 (ipykernel)",
   "language": "python",
   "name": "python3"
  },
  "language_info": {
   "codemirror_mode": {
    "name": "ipython",
    "version": 3
   },
   "file_extension": ".py",
   "mimetype": "text/x-python",
   "name": "python",
   "nbconvert_exporter": "python",
   "pygments_lexer": "ipython3",
   "version": "3.11.4"
  }
 },
 "nbformat": 4,
 "nbformat_minor": 5
}
