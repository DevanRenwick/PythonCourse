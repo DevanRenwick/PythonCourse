{
 "cells": [
  {
   "cell_type": "markdown",
   "id": "fc68334d",
   "metadata": {},
   "source": [
    "The way Python deals with the names of the variables you assign. When you create a variable name in python, it is stored in whats called the \"name space\". Variable names also have a Scope. Scopes determine the visiblity to that variable throughout the code."
   ]
  },
  {
   "cell_type": "code",
   "execution_count": 1,
   "id": "0a1af523",
   "metadata": {},
   "outputs": [],
   "source": [
    "x = 25\n",
    "\n",
    "def printer():\n",
    "    x = 50\n",
    "    return x"
   ]
  },
  {
   "cell_type": "code",
   "execution_count": 2,
   "id": "6fa5b6fd",
   "metadata": {},
   "outputs": [
    {
     "name": "stdout",
     "output_type": "stream",
     "text": [
      "25\n"
     ]
    }
   ],
   "source": [
    "print(x)"
   ]
  },
  {
   "cell_type": "code",
   "execution_count": 3,
   "id": "cc0f264a",
   "metadata": {},
   "outputs": [
    {
     "name": "stdout",
     "output_type": "stream",
     "text": [
      "50\n"
     ]
    }
   ],
   "source": [
    "print(printer())"
   ]
  },
  {
   "cell_type": "markdown",
   "id": "b207f3f9",
   "metadata": {},
   "source": [
    "# LEGB Rule:\n",
    "\n",
    "L: Local - Names assigned in any way within a function (def or lambda), and not declared global in that function.\n",
    "\n",
    "E: Enclosing function locals - Names in thelocal scope of any and all enclosing functions (def or lambda), from inner to outer.\n",
    "\n",
    "G: Global(module) - Names assigned at the top-level of a module file, or declared global in a def within the file.\n",
    "\n",
    "B: Built-in(Python) - Names preassigned in the built-in names module: open, range, SyntaxError,..."
   ]
  },
  {
   "cell_type": "code",
   "execution_count": 8,
   "id": "134b2263",
   "metadata": {},
   "outputs": [
    {
     "name": "stdout",
     "output_type": "stream",
     "text": [
      "Hello Im a local\n"
     ]
    }
   ],
   "source": [
    "# Local\n",
    "lambda num:num**2 # <-- the first num is a local variable.\n",
    "# Enclosing function locals\n",
    "name = 'THIS IS A GLOBAL STRING'\n",
    "def greet():\n",
    "    name = 'Sammy' # This is the enclosing function local.\n",
    "    def hello():\n",
    "        # This is local\n",
    "        name = 'Im a local'\n",
    "        print('Hello ' + name)\n",
    "    hello()\n",
    "greet()"
   ]
  },
  {
   "cell_type": "markdown",
   "id": "4aa6b103",
   "metadata": {},
   "source": [
    "If we comment out name = 'Sammy' above, greet() will output Hello THIS IS A GLOBAL STRING.\n",
    "The reason why is because of the above order. It goes through and first looks at local. It doesn't see it defined locally (within the hello() function. Then it checks enclosing local, it doesn't show it there either. Then it goes through to the next step which is global)"
   ]
  },
  {
   "cell_type": "code",
   "execution_count": 14,
   "id": "5faf8102",
   "metadata": {},
   "outputs": [],
   "source": [
    "x = 50\n",
    "\n",
    "def func(x):\n",
    "    print(f'X is {x}')\n",
    "    \n",
    "    x = 200\n",
    "    print(f'I just locally changed x to {x}')"
   ]
  },
  {
   "cell_type": "code",
   "execution_count": 15,
   "id": "d4ab43dd",
   "metadata": {},
   "outputs": [
    {
     "name": "stdout",
     "output_type": "stream",
     "text": [
      "X is 50\n",
      "I just locally changed x to 200\n"
     ]
    }
   ],
   "source": [
    "func(x)"
   ]
  },
  {
   "cell_type": "code",
   "execution_count": 16,
   "id": "5f7ec8ed",
   "metadata": {},
   "outputs": [
    {
     "name": "stdout",
     "output_type": "stream",
     "text": [
      "50\n"
     ]
    }
   ],
   "source": [
    "print(x)"
   ]
  },
  {
   "cell_type": "markdown",
   "id": "a2052baf",
   "metadata": {},
   "source": [
    "The 200 is only printed locally, the print(x) will print the global value of x."
   ]
  },
  {
   "cell_type": "markdown",
   "id": "1deb021f",
   "metadata": {},
   "source": [
    "If we want to grab the global x = 50 value, use the global keyword:"
   ]
  },
  {
   "cell_type": "code",
   "execution_count": 20,
   "id": "fc94230f",
   "metadata": {},
   "outputs": [],
   "source": [
    "x = 50\n",
    "\n",
    "def func():\n",
    "    global x\n",
    "    print(f'X is {x}')\n",
    "    \n",
    "    # This is a local reassignment on a global variable\n",
    "    x = 'NEW VALUE'\n",
    "    print(f'I just locally changed x to {x}')"
   ]
  },
  {
   "cell_type": "code",
   "execution_count": 21,
   "id": "53bf3126",
   "metadata": {},
   "outputs": [
    {
     "name": "stdout",
     "output_type": "stream",
     "text": [
      "50\n"
     ]
    }
   ],
   "source": [
    "print(x)"
   ]
  },
  {
   "cell_type": "code",
   "execution_count": 22,
   "id": "dfebf65b",
   "metadata": {},
   "outputs": [
    {
     "name": "stdout",
     "output_type": "stream",
     "text": [
      "X is 50\n",
      "I just locally changed x to NEW VALUE\n"
     ]
    }
   ],
   "source": [
    "func()"
   ]
  },
  {
   "cell_type": "code",
   "execution_count": 23,
   "id": "70363094",
   "metadata": {},
   "outputs": [
    {
     "name": "stdout",
     "output_type": "stream",
     "text": [
      "NEW VALUE\n"
     ]
    }
   ],
   "source": [
    "print(x)"
   ]
  },
  {
   "cell_type": "markdown",
   "id": "028b3326",
   "metadata": {},
   "source": [
    "As a beginner it is better practice to avoid the global keyword for now. Instead, take x in as a parameter func(x): then return the reassignment as an object itself 'return x'"
   ]
  },
  {
   "cell_type": "code",
   "execution_count": null,
   "id": "8bf1f597",
   "metadata": {},
   "outputs": [],
   "source": []
  }
 ],
 "metadata": {
  "kernelspec": {
   "display_name": "Python 3 (ipykernel)",
   "language": "python",
   "name": "python3"
  },
  "language_info": {
   "codemirror_mode": {
    "name": "ipython",
    "version": 3
   },
   "file_extension": ".py",
   "mimetype": "text/x-python",
   "name": "python",
   "nbconvert_exporter": "python",
   "pygments_lexer": "ipython3",
   "version": "3.11.4"
  }
 },
 "nbformat": 4,
 "nbformat_minor": 5
}
