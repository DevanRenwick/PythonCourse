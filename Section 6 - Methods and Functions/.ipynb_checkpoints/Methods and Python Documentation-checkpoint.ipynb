{
 "cells": [
  {
   "cell_type": "code",
   "execution_count": 4,
   "id": "024ce823",
   "metadata": {},
   "outputs": [],
   "source": [
    "mylist = [1,2,3]"
   ]
  },
  {
   "cell_type": "code",
   "execution_count": 6,
   "id": "dc3b095c",
   "metadata": {},
   "outputs": [],
   "source": [
    "mylist.append(4)"
   ]
  },
  {
   "cell_type": "code",
   "execution_count": 7,
   "id": "e2556509",
   "metadata": {},
   "outputs": [
    {
     "data": {
      "text/plain": [
       "[1, 2, 3, 4]"
      ]
     },
     "execution_count": 7,
     "metadata": {},
     "output_type": "execute_result"
    }
   ],
   "source": [
    "mylist"
   ]
  },
  {
   "cell_type": "markdown",
   "id": "9c8660d5",
   "metadata": {},
   "source": [
    "To discover methods on your own, in Jupyter notebook, you can hit .tab after you create a list for example. You can see that append is there, clear, copy, etc."
   ]
  },
  {
   "cell_type": "markdown",
   "id": "e8145b34",
   "metadata": {},
   "source": [
    "You can get help on some of these built in methods by two ways on Jupyter Notebook.\n",
    "1. mylist.insert**hit shift tab** and it will tell you what it is.\n",
    "2. Not using Jupyter Notebook, you can run the built in help method like below:"
   ]
  },
  {
   "cell_type": "code",
   "execution_count": 8,
   "id": "f734fadb",
   "metadata": {},
   "outputs": [
    {
     "name": "stdout",
     "output_type": "stream",
     "text": [
      "Help on built-in function insert:\n",
      "\n",
      "insert(index, object, /) method of builtins.list instance\n",
      "    Insert object before index.\n",
      "\n"
     ]
    }
   ],
   "source": [
    "help(mylist.insert)"
   ]
  },
  {
   "cell_type": "markdown",
   "id": "452bc903",
   "metadata": {},
   "source": [
    "The third option is to view the Python documentation. docs.python.org\n",
    "https://docs.python.org/3/library/index.html\n",
    "The library reference is a really good go to reference for Python.\n",
    "It is not the most readable for documentation though. Stack overflow can be better."
   ]
  },
  {
   "cell_type": "code",
   "execution_count": null,
   "id": "c7fd16d3",
   "metadata": {},
   "outputs": [],
   "source": []
  }
 ],
 "metadata": {
  "kernelspec": {
   "display_name": "Python 3 (ipykernel)",
   "language": "python",
   "name": "python3"
  },
  "language_info": {
   "codemirror_mode": {
    "name": "ipython",
    "version": 3
   },
   "file_extension": ".py",
   "mimetype": "text/x-python",
   "name": "python",
   "nbconvert_exporter": "python",
   "pygments_lexer": "ipython3",
   "version": "3.11.4"
  }
 },
 "nbformat": 4,
 "nbformat_minor": 5
}
