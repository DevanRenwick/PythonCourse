{
 "cells": [
  {
   "cell_type": "markdown",
   "id": "e3870b69",
   "metadata": {},
   "source": [
    "**Functions** allow us to create blocks of code that can be easily executed many times, without needing to constantly rewrite the entire block of code."
   ]
  },
  {
   "cell_type": "code",
   "execution_count": null,
   "id": "8ade0321",
   "metadata": {},
   "outputs": [],
   "source": []
  }
 ],
 "metadata": {
  "kernelspec": {
   "display_name": "Python 3 (ipykernel)",
   "language": "python",
   "name": "python3"
  },
  "language_info": {
   "codemirror_mode": {
    "name": "ipython",
    "version": 3
   },
   "file_extension": ".py",
   "mimetype": "text/x-python",
   "name": "python",
   "nbconvert_exporter": "python",
   "pygments_lexer": "ipython3",
   "version": "3.11.4"
  }
 },
 "nbformat": 4,
 "nbformat_minor": 5
}
