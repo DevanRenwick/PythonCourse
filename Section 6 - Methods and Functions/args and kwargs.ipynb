{
 "cells": [
  {
   "cell_type": "markdown",
   "id": "8267391b",
   "metadata": {},
   "source": [
    "# *args and **kwards"
   ]
  },
  {
   "cell_type": "markdown",
   "id": "3a3d681b",
   "metadata": {},
   "source": [
    "#### These stand for: arguments and key word arguments."
   ]
  },
  {
   "cell_type": "code",
   "execution_count": 1,
   "id": "8d7f7ec8",
   "metadata": {},
   "outputs": [],
   "source": [
    "def myfunc(a,b):\n",
    "    # Returns 5% of the sum of a and b.\n",
    "    return sum((a,b)) * 0.05"
   ]
  },
  {
   "cell_type": "code",
   "execution_count": 2,
   "id": "b54a85b6",
   "metadata": {},
   "outputs": [
    {
     "data": {
      "text/plain": [
       "5.0"
      ]
     },
     "execution_count": 2,
     "metadata": {},
     "output_type": "execute_result"
    }
   ],
   "source": [
    "myfunc(40,60)"
   ]
  },
  {
   "cell_type": "markdown",
   "id": "dac89158",
   "metadata": {},
   "source": [
    "What if I had more numbers or paramaters to pass in? a and b are positional arguments. 40 is assigned to a since its in the first position and b is assigned to 60 since its in the second argument.\n",
    "\n",
    "What if we want to work with more paramaters? We could manually do this:"
   ]
  },
  {
   "cell_type": "code",
   "execution_count": 3,
   "id": "44593652",
   "metadata": {},
   "outputs": [],
   "source": [
    "def myfunc(a,b,c=0,d=0): # etc\n",
    "    # Returns 5% of the sum of a and b.\n",
    "    return sum((a,b,c,d)) * 0.05"
   ]
  },
  {
   "cell_type": "code",
   "execution_count": null,
   "id": "01a49d49",
   "metadata": {},
   "outputs": [],
   "source": []
  }
 ],
 "metadata": {
  "kernelspec": {
   "display_name": "Python 3 (ipykernel)",
   "language": "python",
   "name": "python3"
  },
  "language_info": {
   "codemirror_mode": {
    "name": "ipython",
    "version": 3
   },
   "file_extension": ".py",
   "mimetype": "text/x-python",
   "name": "python",
   "nbconvert_exporter": "python",
   "pygments_lexer": "ipython3",
   "version": "3.11.4"
  }
 },
 "nbformat": 4,
 "nbformat_minor": 5
}
